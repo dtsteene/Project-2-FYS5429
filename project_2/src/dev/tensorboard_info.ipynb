{
 "cells": [
  {
   "cell_type": "markdown",
   "metadata": {},
   "source": [
    "# Exploring Metrics with TensorBoard\n",
    "\n",
    "TensorBoard provides a interactive GUI for exploring the metrics of all our training runs within a directory. That is the different versions\n",
    "that spawn after training a model under ```checkpoints\\``` \n",
    "\n",
    "If ```logger_name``` is not specified in trainer init for a run, the data will be logged at ```checkpoints\\version_x``` where x is the lowest available digit (0, 1, 3, 4 ..)\n",
    "\n",
    "If ```logger_name``` is specified, for instance ```8_8layer``` (this could communicate the layers of the encoder/decoder) the data will be logged at ```checkpoints\\8_8layer\\version_x```\n",
    "\n",
    "## Launching TensorBoard\n",
    "\n",
    "1. **Open Terminal**\n",
    "   Run TensorBoard in the terminal from the directory where your logs are stored, or provide the path directly:\n",
    "\n",
    "   ```bash\n",
    "   tensorboard --logdir=<LOG_DIR>"
   ]
  },
  {
   "cell_type": "markdown",
   "metadata": {
    "vscode": {
     "languageId": "plaintext"
    }
   },
   "source": [
    "For instance, if you are at ```Project-2-FYS5429\\project_2\\src```:\n",
    "\n",
    "```bash\n",
    "tensorboard --logdir=lorenz/checkpoints/"
   ]
  },
  {
   "cell_type": "markdown",
   "metadata": {
    "vscode": {
     "languageId": "plaintext"
    }
   },
   "source": [
    "## Open TensorBoard in Your Browser\n",
    "\n",
    "After starting TensorBoard, you'll see output indicating the URL where it's available, typically http://localhost:6006. Open this link in your web browser:\n"
   ]
  },
  {
   "cell_type": "markdown",
   "metadata": {
    "vscode": {
     "languageId": "plaintext"
    }
   },
   "source": [
    "## Explore Metrics\n",
    "Once you're on the TensorBoard page:\n",
    "- Scalars Tab: View and compare metrics like loss, dynamics_dx (loss in dynamics dx), etc.\n",
    "- Graphs Tab: Visualize the computation graph (backprop)"
   ]
  }
 ],
 "metadata": {
  "language_info": {
   "name": "python"
  }
 },
 "nbformat": 4,
 "nbformat_minor": 2
}
