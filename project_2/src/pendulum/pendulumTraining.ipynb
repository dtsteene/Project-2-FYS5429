{
 "cells": [
  {
   "cell_type": "markdown",
   "metadata": {},
   "source": [
    "This notebook reproduces the nonlinear Pendulum results from [Champion et. al](https://www.pnas.org/doi/full/10.1073/pnas.1906995116). The data generation is specified in the  [appendix](https://www.pnas.org/action/downloadSupplement?doi=10.1073%2Fpnas.1906995116&file=pnas.1906995116.sapp.pdf) of [Champion et. al](https://www.pnas.org/doi/full/10.1073/pnas.1906995116), and is restated here. \n",
    "\n",
    "\n",
    "\n",
    "\n"
   ]
  },
  {
   "cell_type": "markdown",
   "metadata": {},
   "source": [
    "The nonlinear pendulum equation is given by\n",
    "\n",
    "\\begin{equation}\n",
    "\\ddot{z} = -sin(z)\n",
    "\\end{equation}\n",
    "\n",
    "Here $z$ denotes the angle between the vertical and the pendulum"
   ]
  },
  {
   "cell_type": "markdown",
   "metadata": {},
   "source": [
    "As per the appendix \"We generate synthetic video of the pendulum in two spatial dimensions by creating high-dimensional snapshots given by\""
   ]
  },
  {
   "cell_type": "markdown",
   "metadata": {},
   "source": [
    "$$\n",
    "x(y_1, y_2, t) = exp \\left( -20 \\left(  (y_1 - cos(z(t)) - \\pi/2)\\right)^2 + (y_2  - sin(z(t)) - \\pi/2)^2 \\right)\n",
    "$$"
   ]
  },
  {
   "cell_type": "markdown",
   "metadata": {},
   "source": [
    "\n",
    "\"at a discretization of $y_1, y_2 \\in [−1.5, 1.5]$ . We use 51 grid points in each dimension resulting in snapshots $x(t) \\in \\mathbb{R}^{2601}$. To generate\n",
    "a training set, we simulate Eq. (1) from 100 randomly chosen initial conditions with $z(0) \\in [-\\pi, \\pi]$ and $\\dot{z(0)} \\in [−2.1, 2.1]$. The\n",
    "156 initial conditions are selected from a uniform distribution in the specified range but are restricted to conditions for which the\n",
    "pendulum does not have enough energy to do a full loop. This condition is determined by checking that $|\\dot{z}(0)^2/2−cos z(0)| ≤ 0.99$.\""
   ]
  },
  {
   "cell_type": "code",
   "execution_count": null,
   "metadata": {},
   "outputs": [],
   "source": []
  }
 ],
 "metadata": {
  "kernelspec": {
   "display_name": "SA",
   "language": "python",
   "name": "python3"
  },
  "language_info": {
   "codemirror_mode": {
    "name": "ipython",
    "version": 3
   },
   "file_extension": ".py",
   "mimetype": "text/x-python",
   "name": "python",
   "nbconvert_exporter": "python",
   "pygments_lexer": "ipython3",
   "version": "3.12.2"
  }
 },
 "nbformat": 4,
 "nbformat_minor": 2
}
