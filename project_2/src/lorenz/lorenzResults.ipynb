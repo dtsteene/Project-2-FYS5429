{
 "cells": [
  {
   "cell_type": "markdown",
   "metadata": {},
   "source": [
    "# Results Explorer for lorenz models\n",
    "\n",
    "includes plotting the sindy coefficients $\\Xi$, loss metrics and trajectories for different initial conditions "
   ]
  },
  {
   "cell_type": "markdown",
   "metadata": {},
   "source": [
    "### Choose Model"
   ]
  },
  {
   "cell_type": "code",
   "execution_count": 1,
   "metadata": {},
   "outputs": [],
   "source": [
    "#CHOOSE MODEL\n",
    "model_path = \"checkpoints/kathleenReplica_1\"\n",
    "#CHOOSE MODEL"
   ]
  },
  {
   "cell_type": "code",
   "execution_count": 4,
   "metadata": {},
   "outputs": [
    {
     "ename": "TypeError",
     "evalue": "SINDy_trainer.load_from_checkpoint() missing 1 required positional argument: 'exmp_input'",
     "output_type": "error",
     "traceback": [
      "\u001b[1;31m---------------------------------------------------------------------------\u001b[0m",
      "\u001b[1;31mTypeError\u001b[0m                                 Traceback (most recent call last)",
      "Cell \u001b[1;32mIn[4], line 5\u001b[0m\n\u001b[0;32m      2\u001b[0m sys\u001b[38;5;241m.\u001b[39mpath\u001b[38;5;241m.\u001b[39mappend(\u001b[38;5;124m'\u001b[39m\u001b[38;5;124m../\u001b[39m\u001b[38;5;124m'\u001b[39m)\n\u001b[0;32m      3\u001b[0m \u001b[38;5;28;01mfrom\u001b[39;00m \u001b[38;5;21;01mtrainer\u001b[39;00m \u001b[38;5;28;01mimport\u001b[39;00m SINDy_trainer\n\u001b[1;32m----> 5\u001b[0m trainer \u001b[38;5;241m=\u001b[39m \u001b[43mSINDy_trainer\u001b[49m\u001b[38;5;241;43m.\u001b[39;49m\u001b[43mload_from_checkpoint\u001b[49m\u001b[43m(\u001b[49m\u001b[43mmodel_path\u001b[49m\u001b[43m)\u001b[49m\n\u001b[0;32m      7\u001b[0m xi_raw \u001b[38;5;241m=\u001b[39m trainer\u001b[38;5;241m.\u001b[39mstate\u001b[38;5;241m.\u001b[39mparams[\u001b[38;5;124m'\u001b[39m\u001b[38;5;124msindy_coefficient\u001b[39m\u001b[38;5;124m'\u001b[39m]\n\u001b[0;32m      8\u001b[0m mask \u001b[38;5;241m=\u001b[39m trainer\u001b[38;5;241m.\u001b[39mmask\n",
      "\u001b[1;31mTypeError\u001b[0m: SINDy_trainer.load_from_checkpoint() missing 1 required positional argument: 'exmp_input'"
     ]
    }
   ],
   "source": [
    "import sys\n",
    "sys.path.append('../')\n",
    "from trainer import SINDy_trainer\n",
    "import jax.numpy as jnp¨\n",
    "\n",
    "#exmp input needs to have 128 as second dimension\n",
    "exmp_input = jnp.ones(1, 128)\n",
    "trainer = SINDy_trainer.load_from_checkpoint(model_path, exmp_input)\n",
    "\n",
    "xi_raw = trainer.state.params['sindy_coefficient']\n",
    "mask = trainer.mask\n",
    "\n",
    "xi = xi_raw * mask\n",
    "\n",
    "print(xi)"
   ]
  },
  {
   "cell_type": "code",
   "execution_count": null,
   "metadata": {},
   "outputs": [],
   "source": []
  }
 ],
 "metadata": {
  "kernelspec": {
   "display_name": "SA",
   "language": "python",
   "name": "python3"
  },
  "language_info": {
   "codemirror_mode": {
    "name": "ipython",
    "version": 3
   },
   "file_extension": ".py",
   "mimetype": "text/x-python",
   "name": "python",
   "nbconvert_exporter": "python",
   "pygments_lexer": "ipython3",
   "version": "3.12.3"
  }
 },
 "nbformat": 4,
 "nbformat_minor": 2
}
