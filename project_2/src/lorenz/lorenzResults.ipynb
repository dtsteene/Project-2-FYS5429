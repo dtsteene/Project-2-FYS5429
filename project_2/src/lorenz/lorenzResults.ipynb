{
 "cells": [
  {
   "cell_type": "markdown",
   "metadata": {},
   "source": [
    "Results Explorer for lorenz models"
   ]
  },
  {
   "cell_type": "code",
   "execution_count": null,
   "metadata": {},
   "outputs": [],
   "source": [
    "#CHOOSE MODEL\n",
    "model_path = \"checkpoints/kathleenReplica_1\"\n",
    "#CHOOSE MODEL"
   ]
  },
  {
   "cell_type": "code",
   "execution_count": null,
   "metadata": {},
   "outputs": [],
   "source": [
    "from lorenzUtils import plot_sindy_coefficients, create_out_of_distribution_initial_conditions, plot_single_trajectory, calculate_losses "
   ]
  }
 ],
 "metadata": {
  "kernelspec": {
   "display_name": "SA",
   "language": "python",
   "name": "python3"
  },
  "language_info": {
   "name": "python",
   "version": "3.12.3"
  }
 },
 "nbformat": 4,
 "nbformat_minor": 2
}
