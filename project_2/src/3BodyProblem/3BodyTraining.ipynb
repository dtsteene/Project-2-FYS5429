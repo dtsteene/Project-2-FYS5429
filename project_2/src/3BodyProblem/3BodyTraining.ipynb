{
 "cells": [
  {
   "cell_type": "markdown",
   "metadata": {},
   "source": [
    "The equations of motion for a three-body system, governed by Newton's law of universal gravitation, can be expressed as second-order ordinary differential equations (ODEs) for the positions $\\mathbf{r}_1$, $\\mathbf{r}_2$, and $ \\mathbf{r}_3 $ of the three bodies. These equations are:\n",
    "\n",
    "\n",
    "\\begin{aligned}\n",
    "\\ddot{\\mathbf{r}}_1 &= -Gm_2 \\frac{\\mathbf{r}_1 - \\mathbf{r}_2}{|\\mathbf{r}_1 - \\mathbf{r}_2|^3} - Gm_3 \\frac{\\mathbf{r}_1 - \\mathbf{r}_3}{|\\mathbf{r}_1 - \\mathbf{r}_3|^3}, \\\\\n",
    "\\ddot{\\mathbf{r}}_2 &= -Gm_3 \\frac{\\mathbf{r}_2 - \\mathbf{r}_3}{|\\mathbf{r}_2 - \\mathbf{r}_3|^3} - Gm_1 \\frac{\\mathbf{r}_2 - \\mathbf{r}_1}{|\\mathbf{r}_2 - \\mathbf{r}_1|^3}, \\\\\n",
    "\\ddot{\\mathbf{r}}_3 &= -Gm_1 \\frac{\\mathbf{r}_3 - \\mathbf{r}_1}{|\\mathbf{r}_3 - \\mathbf{r}_1|^3} - Gm_2 \\frac{\\mathbf{r}_3 - \\mathbf{r}_2}{|\\mathbf{r}_3 - \\mathbf{r}_2|^3}.\n",
    "\\end{aligned}\n",
    "\n",
    "\n",
    "Here:\n",
    "\n",
    "- $\\mathbf{r}_i$ represents the position vector of the $i$-th body,\n",
    "- $\\ddot{\\mathbf{r}}_i$ represents the acceleration\n"
   ]
  }
 ],
 "metadata": {
  "kernelspec": {
   "display_name": "SA",
   "language": "python",
   "name": "python3"
  },
  "language_info": {
   "name": "python",
   "version": "3.12.3"
  }
 },
 "nbformat": 4,
 "nbformat_minor": 2
}
